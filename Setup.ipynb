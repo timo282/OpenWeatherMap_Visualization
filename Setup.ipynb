{
 "cells": [
  {
   "cell_type": "markdown",
   "id": "angry-trust",
   "metadata": {},
   "source": [
    "Please uncomment the cell below and execute it in order to setup the same environment I used.\n",
    "See also *requirements.txt*"
   ]
  },
  {
   "cell_type": "code",
   "execution_count": null,
   "id": "focal-tuner",
   "metadata": {},
   "outputs": [],
   "source": [
    "# !pip install ipykernel==5.4.3\n",
    "# !pip install ipython==7.20.0\n",
    "# !pip install ipython-genutils==0.2.0\n",
    "# !pip install ipywidgets==8.0.1\n",
    "# !pip install kafka-python==2.0.2\n",
    "# !pip install numpy==1.23.1\n",
    "# !pip install pandas==1.4.3\n",
    "# !pip install plotly==5.9.0\n",
    "# !pip install requests==2.25.1"
   ]
  }
 ],
 "metadata": {
  "kernelspec": {
   "display_name": "Python 3",
   "language": "python",
   "name": "python3"
  },
  "language_info": {
   "codemirror_mode": {
    "name": "ipython",
    "version": 3
   },
   "file_extension": ".py",
   "mimetype": "text/x-python",
   "name": "python",
   "nbconvert_exporter": "python",
   "pygments_lexer": "ipython3",
   "version": "3.8.6"
  }
 },
 "nbformat": 4,
 "nbformat_minor": 5
}
